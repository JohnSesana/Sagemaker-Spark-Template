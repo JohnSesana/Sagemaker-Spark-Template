{
 "cells": [
  {
   "cell_type": "markdown",
   "id": "c4facfba-725d-47d9-ab66-83d89fbb8ac6",
   "metadata": {
    "tags": []
   },
   "source": [
    "# Create Spark Context"
   ]
  },
  {
   "cell_type": "code",
   "execution_count": null,
   "id": "f5802301-b2ae-46d1-82cf-7cd646c02716",
   "metadata": {},
   "outputs": [],
   "source": [
    "import sagemaker_pyspark\n",
    "from pyspark.sql import SparkSession\n",
    "from pyspark.sql.functions import lit\n",
    "from datetime import date, datetime, timedelta\n",
    "\n",
    "classpath = \":\".join(sagemaker_pyspark.classpath_jars())\n",
    "spark = (\n",
    "    SparkSession.builder \\\n",
    "        .config(\"spark.driver.extraClassPath\", classpath) \\\n",
    "        .config(\"spark.sql.sources.partitionOverwriteMode\", \"dynamic\") \\\n",
    "        .config(\"spark.sql.orc.enabled\", \"true\") \\\n",
    "        .config(\"spark.dynamicAllocation.enabled\", \"true\") \\\n",
    "        .config(\"spark.hadoop.mapreduce.outputcommitter.factory.scheme.s3a\", \"org.apache.hadoop.fs.s3a.commit.S3ACommitterFactory\") \\\n",
    "        .config(\"spark.hadoop.fs.s3a.committer.name\", \"directory\") \\\n",
    "        .config(\"spark.hadoop.fs.s3a.committer.staging.conflict-mode\", \"append\") \\\n",
    "        .config(\"spark.serializer\", \"org.apache.spark.serializer.KryoSerializer\") \\\n",
    "        .getOrCreate()\n",
    ")"
   ]
  },
  {
   "cell_type": "markdown",
   "id": "c747af23-d2e1-4c23-a9fa-56645b0c7522",
   "metadata": {
    "tags": []
   },
   "source": [
    "# Better Spark Display for .show()"
   ]
  },
  {
   "cell_type": "code",
   "execution_count": null,
   "id": "482f4aa8-ad76-4487-9d52-471701fed16e",
   "metadata": {},
   "outputs": [],
   "source": [
    "from IPython.display import HTML\n",
    "\n",
    "\n",
    "def better_show(df, num_rows=50):\n",
    "    \"\"\"\n",
    "    Display a PySpark DataFrame as an HTML table in Jupyter notebook.\n",
    "\n",
    "    Parameters:\n",
    "    df (DataFrame): The PySpark DataFrame to display.\n",
    "    num_rows (int): Number of rows to display. Default is 50.\n",
    "    \"\"\"\n",
    "    # Collect the specified number of rows as a list of dictionaries\n",
    "    rows = df.limit(num_rows).collect()\n",
    "\n",
    "    # Create an HTML table string with column headers\n",
    "    html = \"<table border='1'><tr>\" + \"\".join([f\"<th>{col}</th>\" for col in df.columns]) + \"</tr>\"\n",
    "\n",
    "    # Add the rows to the table\n",
    "    for row in rows:\n",
    "        html += \"<tr>\" + \"\".join([f\"<td>{value}</td>\" for value in row]) + \"</tr>\"\n",
    "\n",
    "    html += \"</table>\"\n",
    "\n",
    "    # Display the HTML table\n",
    "    return HTML(html)"
   ]
  },
  {
   "cell_type": "markdown",
   "id": "a277c2b7-f13f-4d11-947e-a9e67c39aa14",
   "metadata": {
    "tags": []
   },
   "source": [
    "# Read table from S3"
   ]
  },
  {
   "cell_type": "code",
   "execution_count": null,
   "id": "651d88e1-c005-4cd2-9f23-95b4a3db487c",
   "metadata": {},
   "outputs": [],
   "source": [
    "df_path = 's3a://your-bucket-name/path/to/your/table/'\n",
    "df = spark.read.format(\"orc\").load(df_path)\n",
    "df.createOrReplaceTempView(\"your_table\")\n",
    "better_show(df, 5)"
   ]
  },
  {
   "cell_type": "markdown",
   "id": "c355e240",
   "metadata": {},
   "source": [
    "# Write table in S3"
   ]
  },
  {
   "cell_type": "code",
   "execution_count": null,
   "id": "167195f0",
   "metadata": {},
   "outputs": [],
   "source": [
    "# Uncomment when writing\n",
    "final_df = final_df.repartition('partition_id') # write one file per partition\n",
    "\n",
    "final_df.write \\\n",
    "    .format('orc') \\ # change this depending on your format\n",
    "    .mode('overwrite') \\\n",
    "    .partitionBy('partition_id') \\\n",
    "    .save(df_path)"
   ]
  }
 ],
 "metadata": {
  "kernelspec": {
   "display_name": "conda_python3",
   "language": "python",
   "name": "conda_python3"
  },
  "language_info": {
   "codemirror_mode": {
    "name": "ipython",
    "version": 3
   },
   "file_extension": ".py",
   "mimetype": "text/x-python",
   "name": "python",
   "nbconvert_exporter": "python",
   "pygments_lexer": "ipython3",
   "version": "3.10.15"
  }
 },
 "nbformat": 4,
 "nbformat_minor": 5
}
